{
 "cells": [
  {
   "cell_type": "code",
   "execution_count": 7,
   "metadata": {},
   "outputs": [],
   "source": [
    "import gensim.utils as utils\n",
    "from tqdm import tqdm\n",
    "import torch\n",
    "import torch.nn as nn"
   ]
  },
  {
   "cell_type": "code",
   "execution_count": 8,
   "metadata": {},
   "outputs": [
    {
     "name": "stderr",
     "output_type": "stream",
     "text": [
      "100%|██████████| 100000/100000 [00:01<00:00, 56624.06it/s]\n"
     ]
    }
   ],
   "source": [
    "corpus_file = open(\"./data/train_shuf.txt\")\n",
    "\n",
    "n_lines = 100000\n",
    "\n",
    "corpus = []\n",
    "\n",
    "for i in tqdm(range(n_lines)):\n",
    "    corpus.append(utils.simple_preprocess(corpus_file.readline(), min_len=1))\n"
   ]
  },
  {
   "cell_type": "code",
   "execution_count": 9,
   "metadata": {},
   "outputs": [],
   "source": [
    "words = list(set([word for line in corpus for word in line]))\n",
    "words.sort()\n",
    "words = [''] + words"
   ]
  },
  {
   "cell_type": "code",
   "execution_count": 10,
   "metadata": {},
   "outputs": [
    {
     "name": "stdout",
     "output_type": "stream",
     "text": [
      "['', 'a', 'aa', 'aaa', 'aaaa', 'aachen', 'aaktualne', 'aalen', 'aalto', 'aami']\n"
     ]
    }
   ],
   "source": [
    "print(words[:10])"
   ]
  },
  {
   "cell_type": "code",
   "execution_count": 11,
   "metadata": {},
   "outputs": [],
   "source": [
    "word_to_num = {w: i for i, w in enumerate(words)}\n",
    "num_to_word = {i: w for i, w in enumerate(words)}\n",
    "\n",
    "dict_size = len(words)\n",
    "\n",
    "def word_to_tensor(word):\n",
    "    res = torch.zeros(dict_size)\n",
    "    res[word_to_num[word]] = 1\n",
    "    return res\n",
    "\n",
    "def sentence_to_tensor(sentence):\n",
    "    res = torch.zeros(len(sentence), dict_size)\n",
    "    for i in range(len(sentence)):\n",
    "        res[i,:] = word_to_tensor(sentence[i])\n",
    "\n",
    "    return res\n",
    "\n",
    "def index_to_tensor(index):\n",
    "    res = torch.zeros(dict_size)\n",
    "    res[index] = 1\n",
    "    return res\n",
    "\n",
    "def vec_to_tensor(vec):\n",
    "    res = torch.zeros(len(vec), dict_size)\n",
    "    for i in range(len(vec)):\n",
    "        res[i,:] = index_to_tensor(vec[i])\n",
    "\n",
    "    return res"
   ]
  },
  {
   "cell_type": "code",
   "execution_count": 90,
   "metadata": {},
   "outputs": [
    {
     "name": "stdout",
     "output_type": "stream",
     "text": [
      "tensor([[1., 0., 0.,  ..., 0., 0., 0.],\n",
      "        [0., 1., 0.,  ..., 0., 0., 0.],\n",
      "        [0., 0., 1.,  ..., 0., 0., 0.],\n",
      "        [0., 0., 0.,  ..., 0., 0., 1.]])\n"
     ]
    }
   ],
   "source": [
    "s = ['', 'a', 'aa', words[-1]]\n",
    "print(sentence_to_tensor(s))"
   ]
  },
  {
   "cell_type": "code",
   "execution_count": 13,
   "metadata": {},
   "outputs": [
    {
     "name": "stdout",
     "output_type": "stream",
     "text": [
      "[['system', 'euroraty', 'chcesz', 'kupować', 'więcej', 'niż', 'gdzie', 'indziej'], ['parlament', 'zdecydował', 'jednak', 'inaczej', 'i', 'przyjął', 'w', 'ustawie', 'z', 'dnia', 'r', 'postępowanie', 'orzeczniczo', 'lekarskie']]\n",
      "[['euroraty', 'chcesz', 'kupować', 'więcej', 'niż', 'gdzie', 'indziej', ''], ['zdecydował', 'jednak', 'inaczej', 'i', 'przyjął', 'w', 'ustawie', 'z', 'dnia', 'r', 'postępowanie', 'orzeczniczo', 'lekarskie', '']]\n"
     ]
    }
   ],
   "source": [
    "input_corpus = corpus[:]\n",
    "output_corpus = [sentence[1:] + [''] for sentence in corpus]\n",
    "print(input_corpus[:2])\n",
    "print(output_corpus[:2])"
   ]
  },
  {
   "cell_type": "code",
   "execution_count": 14,
   "metadata": {},
   "outputs": [
    {
     "name": "stdout",
     "output_type": "stream",
     "text": [
      "[[122457, 28334, 13707, 52949, 139499, 72059, 32307, 39789], [82818, 154432, 42384, 39589, 38855, 100323, 135873, 133685, 148224, 20561, 103244, 92055, 80063, 54797]]\n",
      "[[28334, 13707, 52949, 139499, 72059, 32307, 39789, 0], [154432, 42384, 39589, 38855, 100323, 135873, 133685, 148224, 20561, 103244, 92055, 80063, 54797, 0]]\n"
     ]
    }
   ],
   "source": [
    "for i in range(len(corpus)):\n",
    "    input_corpus[i] = [word_to_num[word] for word in input_corpus[i]]\n",
    "    output_corpus[i] = [word_to_num[word] for word in output_corpus[i]]\n",
    "\n",
    "print(input_corpus[:2])\n",
    "print(output_corpus[:2])"
   ]
  },
  {
   "cell_type": "code",
   "execution_count": 81,
   "metadata": {},
   "outputs": [
    {
     "name": "stdout",
     "output_type": "stream",
     "text": [
      "GPU is available\n"
     ]
    }
   ],
   "source": [
    "# torch.cuda.is_available() checks and returns a Boolean True if a GPU is available, else it'll return False\n",
    "is_cuda = torch.cuda.is_available()\n",
    "\n",
    "# If we have a GPU available, we'll set our device to GPU. We'll use this device variable later in our code.\n",
    "if is_cuda:\n",
    "    device = torch.device(\"cuda\")\n",
    "    print(\"GPU is available\")\n",
    "else:\n",
    "    device = torch.device(\"cpu\")\n",
    "    print(\"GPU not available, CPU used\")"
   ]
  },
  {
   "cell_type": "code",
   "execution_count": 82,
   "metadata": {},
   "outputs": [],
   "source": [
    "class RNN(nn.Module):\n",
    "    def __init__(self, input_size, output_size, hidden_dim, n_layers):\n",
    "        super(RNN, self).__init__()\n",
    "\n",
    "        # Defining some parameters\n",
    "        self.hidden_dim = hidden_dim\n",
    "        self.n_layers = n_layers\n",
    "\n",
    "        #Defining the layers\n",
    "        # RNN Layer\n",
    "        self.rnn = nn.RNN(input_size, hidden_dim, n_layers, batch_first=True)   \n",
    "        # Fully connected layer\n",
    "        self.fc = nn.Linear(hidden_dim, output_size)\n",
    "    \n",
    "    def forward(self, x):\n",
    "        \n",
    "        batch_size = x.size(0)\n",
    "\n",
    "        #Initializing hidden state for first input using method defined below\n",
    "        hidden = self.init_hidden(batch_size)\n",
    "\n",
    "        # Passing in the input and hidden state into the model and obtaining outputs\n",
    "        out, hidden = self.rnn(x, hidden)\n",
    "        \n",
    "        # Reshaping the outputs such that it can be fit into the fully connected layer\n",
    "        out = out.contiguous().view(-1, self.hidden_dim)\n",
    "        out = self.fc(out)\n",
    "        \n",
    "        return out, hidden\n",
    "    \n",
    "    def init_hidden(self, batch_size):\n",
    "        # This method generates the first hidden state of zeros which we'll use in the forward pass\n",
    "        hidden = torch.zeros(self.n_layers, batch_size, self.hidden_dim).to(device)\n",
    "         # We'll send the tensor holding the hidden state to the device we specified earlier as well\n",
    "        return hidden"
   ]
  },
  {
   "cell_type": "code",
   "execution_count": null,
   "metadata": {},
   "outputs": [],
   "source": [
    "class DataLoader:\n",
    "    def __init__(self, input_corpus, output_corpus, batch_size):\n",
    "        self.input_corpus = input_corpus\n",
    "        self.output_corpus = output_corpus\n",
    "        self.batch_size = batch_size\n",
    "        self.corpus_size = len(input_corpus)\n",
    "\n",
    "    def __iter__(self):\n",
    "        #TODO - fix to return one_hot\n",
    "        for i in range(0, self.corpus_size, self.batch_size):\n",
    "            yield self.input_corpus[i: i+batch_size],\n",
    "                self.output_corpus[i: i+batch_size]\n"
   ]
  },
  {
   "cell_type": "code",
   "execution_count": 91,
   "metadata": {},
   "outputs": [],
   "source": [
    "# Instantiate the model with hyperparameters\n",
    "model = RNN(input_size=dict_size, output_size=dict_size, hidden_dim=12, n_layers=1)\n",
    "# We'll also set the model to the device that we defined earlier (default is CPU)\n",
    "model = model.to(device)\n",
    "\n",
    "# Define hyperparameters\n",
    "n_epochs = 100\n",
    "lr=0.01\n",
    "batch_size = \n",
    "\n",
    "loader = DataLoader(input_corpus = input_corpus, output_corpus=output_corpus, batch_size=)\n",
    "\n",
    "\n",
    "# Define Loss, Optimizer\n",
    "criterion = nn.CrossEntropyLoss()\n",
    "optimizer = torch.optim.SGD(model.parameters(), lr=lr, momentum=0.8)\n"
   ]
  },
  {
   "cell_type": "code",
   "execution_count": null,
   "metadata": {},
   "outputs": [],
   "source": [
    "#TODO unfinished\n",
    "\n",
    "# Training Run\n",
    "for epoch in range(1, n_epochs + 1):\n",
    "    for batch_x, batch_y in loader:\n",
    "\n",
    "        optimizer.zero_grad() \n",
    "\n",
    "        # output, hidden = model(input_seq)\n",
    "        # output = output.to(device)\n",
    "        # target_seq = target_seq.to(device)\n",
    "\n",
    "        # loss = criterion(output, target_seq.view(-1).long())\n",
    "\n",
    "\n",
    "        loss.backward()\n",
    "        optimizer.step() \n",
    "        \n",
    "        if epoch%10 == 0:\n",
    "            print('Epoch: {}/{}.............'.format(epoch, n_epochs), end=' ')\n",
    "            print(\"Loss: {:.4f}\".format(loss.item()))"
   ]
  }
 ],
 "metadata": {
  "kernelspec": {
   "display_name": "Python 3.8.10 64-bit",
   "language": "python",
   "name": "python3"
  },
  "language_info": {
   "codemirror_mode": {
    "name": "ipython",
    "version": 3
   },
   "file_extension": ".py",
   "mimetype": "text/x-python",
   "name": "python",
   "nbconvert_exporter": "python",
   "pygments_lexer": "ipython3",
   "version": "3.8.10"
  },
  "orig_nbformat": 4,
  "vscode": {
   "interpreter": {
    "hash": "916dbcbb3f70747c44a77c7bcd40155683ae19c65e1c03b4aa3499c5328201f1"
   }
  }
 },
 "nbformat": 4,
 "nbformat_minor": 2
}
