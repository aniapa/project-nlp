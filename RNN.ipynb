{
 "cells": [
  {
   "cell_type": "code",
   "execution_count": 1,
   "metadata": {},
   "outputs": [],
   "source": [
    "import gensim.utils as utils\n",
    "from tqdm import tqdm\n",
    "import torch\n",
    "import torch.nn as nn\n",
    "import numpy as np"
   ]
  },
  {
   "cell_type": "code",
   "execution_count": 2,
   "metadata": {},
   "outputs": [],
   "source": [
    "class Dataset(torch.utils.data.Dataset):\n",
    "    def __init__(self, corpus_length = None, device = None):\n",
    "        corpus_file = open('./data/train_shuf.txt')\n",
    "\n",
    "        if device == None:\n",
    "            device = torch.device('cuda' if torch.cuda.is_available() else 'cpu')\n",
    "\n",
    "        if corpus_length == None:\n",
    "            corpus_length = sum(1 for line in corpus_file)\n",
    "        \n",
    "        self.corpus = []\n",
    "\n",
    "        for i in tqdm(range(corpus_length)):\n",
    "            self.corpus.append(utils.simple_preprocess(corpus_file.readline(), min_len=1))\n",
    "\n",
    "        self.corpus = sorted(self.corpus, key=lambda x: len(x))\n",
    "        \n",
    "        self.unique_words = self.get_unique_words()\n",
    "\n",
    "        self.index_to_word = {index: word for index, word in enumerate(self.unique_words)}\n",
    "        self.word_to_index = {word: index for index, word in enumerate(self.unique_words)}\n",
    "\n",
    "        self.input_corpus_indexes = [list(map(lambda word: self.word_to_index[word], sentence)) for sentence in self.corpus]\n",
    "        output_corpus = [sentence[1:] + ['<STOP>'] for sentence in self.corpus]\n",
    "\n",
    "        self.output_corpus_indexes = [list(map(lambda word: self.word_to_index[word], sentence)) for sentence in output_corpus]\n",
    "        \n",
    "        self.device = device\n",
    "\n",
    "\n",
    "    def indexes_to_sentence(self, sentence):\n",
    "        return list(map(lambda x: self.index_to_word[x], sentence))\n",
    "\n",
    "\n",
    "    def get_unique_words(self):\n",
    "        words = list(set([word for line in self.corpus for word in line]))\n",
    "        words.sort()\n",
    "        words = ['<PAD>','<STOP>'] + words\n",
    "        return words\n",
    "\n",
    "    def __len__(self):\n",
    "        return len(self.corpus)\n",
    "\n",
    "    def __getitem__(self, index):\n",
    "        return (torch.tensor(self.input_corpus_indexes[index], device=self.device),\n",
    "            torch.tensor(self.output_corpus_indexes[index], device=self.device))"
   ]
  },
  {
   "cell_type": "code",
   "execution_count": 3,
   "metadata": {},
   "outputs": [
    {
     "name": "stdout",
     "output_type": "stream",
     "text": [
      "GPU is available\n"
     ]
    }
   ],
   "source": [
    "# torch.cuda.is_available() checks and returns a Boolean True if a GPU is available, else it'll return False\n",
    "is_cuda = torch.cuda.is_available()\n",
    "\n",
    "# If we have a GPU available, we'll set our device to GPU. We'll use this device variable later in our code.\n",
    "if is_cuda:\n",
    "    device = torch.device(\"cuda\")\n",
    "    print(\"GPU is available\")\n",
    "else:\n",
    "    device = torch.device(\"cpu\")\n",
    "    print(\"GPU not available, CPU used\")"
   ]
  },
  {
   "cell_type": "code",
   "execution_count": 40,
   "metadata": {},
   "outputs": [],
   "source": [
    "def pad_collate(data):\n",
    "    def left_pad_sequence(tensors):\n",
    "        max_len = max(list(map(len, tensors)))\n",
    "        padded_seq = [torch.hstack([torch.zeros(max_len - len(t), device=t.device), t]) for t in tensors]\n",
    "        return torch.stack(padded_seq)\n",
    "\n",
    "\n",
    "    inputs = [d[0] for d in data]\n",
    "    outputs = [d[1] for d in data]\n",
    "    inputs = left_pad_sequence(inputs)\n",
    "    outputs = left_pad_sequence(outputs)\n",
    "    return inputs, outputs"
   ]
  },
  {
   "cell_type": "code",
   "execution_count": 41,
   "metadata": {},
   "outputs": [
    {
     "name": "stderr",
     "output_type": "stream",
     "text": [
      "100%|██████████| 10/10 [00:00<00:00, 17978.16it/s]\n"
     ]
    }
   ],
   "source": [
    "dataset = Dataset(corpus_length = 10, device='cuda')\n",
    "loader = torch.utils.data.DataLoader(dataset, batch_size=5, collate_fn=pad_collate)\n"
   ]
  },
  {
   "cell_type": "code",
   "execution_count": 42,
   "metadata": {},
   "outputs": [
    {
     "name": "stdout",
     "output_type": "stream",
     "text": [
      "cuda:0\n",
      "cuda:0\n",
      "cuda:0\n",
      "cuda:0\n",
      "cuda:0\n",
      "cuda:0\n",
      "cuda:0\n",
      "cuda:0\n",
      "cuda:0\n",
      "cuda:0\n",
      "-----------------------------------\n",
      "cuda:0\n",
      "cuda:0\n",
      "cuda:0\n",
      "cuda:0\n",
      "cuda:0\n",
      "cuda:0\n",
      "cuda:0\n",
      "cuda:0\n",
      "cuda:0\n",
      "cuda:0\n",
      "-----------------------------------\n"
     ]
    }
   ],
   "source": [
    "for x,y in loader:\n",
    "    for s_in, s_out in zip(x,y):\n",
    "        print(dataset.indexes_to_sentence([x.item() for x in s_in]))\n",
    "    print('-----------------------------------')"
   ]
  },
  {
   "cell_type": "code",
   "execution_count": null,
   "metadata": {},
   "outputs": [],
   "source": [
    "#TODO: copied from Assigment 5, need to change\n",
    "\n",
    "class RNN(nn.Module):\n",
    "    def __init__(self, dataset, device):\n",
    "        super(RNN, self).__init__()\n",
    "        self.lstm_size = 512\n",
    "        self.embedding_dim = 100\n",
    "        self.num_layers = 2\n",
    "        self.device = device\n",
    "        \n",
    "\n",
    "        n_vocab = len(dataset.uniq_words)\n",
    "        self.embedding = nn.Embedding(\n",
    "            num_embeddings=n_vocab,\n",
    "            embedding_dim=self.embedding_dim,\n",
    "            padding_idx=0\n",
    "        )\n",
    "\n",
    "        self.rnn = nn.RNN(input_size, hidden_dim, n_layers, batch_first=True)\n",
    "\n",
    "        self.fc = nn.Linear(self.lstm_size, n_vocab)\n",
    "\n",
    "    def forward(self, x, prev_state):\n",
    "        embed = self.embedding(x)\n",
    "        output, state = self.rnn(embed, prev_state)\n",
    "        logits = self.fc(output)\n",
    "        return logits, state\n",
    "\n",
    "    def init_state(self, sequence_length):\n",
    "        return (torch.zeros(self.num_layers, sequence_length, self.lstm_size).to(self.device),\n",
    "                torch.zeros(self.num_layers, sequence_length, self.lstm_size).to(self.device))\n",
    "        \n",
    "model = LSTMModel(pooh_dataset, device) \n",
    "model.to(device)"
   ]
  },
  {
   "cell_type": "code",
   "execution_count": null,
   "metadata": {},
   "outputs": [],
   "source": [
    "def train(dataset, model, max_epochs = 30, batch_size = 512):\n",
    "    model.train()\n",
    "\n",
    "    dataloader = DataLoader(dataset, batch_size=batch_size)\n",
    "    \n",
    "    criterion = nn.CrossEntropyLoss()\n",
    "    optimizer = optim.Adam(model.parameters(), lr=0.001)\n",
    "\n",
    "    for epoch in range(max_epochs):\n",
    "        state_h, state_c = model.init_state(SEQUENCE_LENGTH)\n",
    "        \n",
    "        for batch, (x, y) in enumerate(dataloader):\n",
    "            optimizer.zero_grad()\n",
    "\n",
    "            y_pred, (state_h, state_c) = model(x, (state_h, state_c))\n",
    "            loss = criterion(y_pred.transpose(1, 2), y)\n",
    "\n",
    "            state_h = state_h.detach()\n",
    "            state_c = state_c.detach()            \n",
    "\n",
    "            loss.backward()\n",
    "            optimizer.step()\n",
    "\n",
    "        print({ 'epoch': epoch, 'batch': batch, 'loss': loss.item() })\n",
    "            \n",
    "train(pooh_dataset, model)       "
   ]
  }
 ],
 "metadata": {
  "kernelspec": {
   "display_name": "Python 3.8.10 64-bit",
   "language": "python",
   "name": "python3"
  },
  "language_info": {
   "codemirror_mode": {
    "name": "ipython",
    "version": 3
   },
   "file_extension": ".py",
   "mimetype": "text/x-python",
   "name": "python",
   "nbconvert_exporter": "python",
   "pygments_lexer": "ipython3",
   "version": "3.8.10"
  },
  "orig_nbformat": 4,
  "vscode": {
   "interpreter": {
    "hash": "916dbcbb3f70747c44a77c7bcd40155683ae19c65e1c03b4aa3499c5328201f1"
   }
  }
 },
 "nbformat": 4,
 "nbformat_minor": 2
}
